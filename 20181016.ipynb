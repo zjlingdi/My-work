{
 "cells": [
  {
   "cell_type": "code",
   "execution_count": 58,
   "metadata": {
    "scrolled": true
   },
   "outputs": [
    {
     "name": "stdout",
     "output_type": "stream",
     "text": [
      "請輸入第1位學生的成績：10\n",
      "請輸入第2位學生的成績：20\n",
      "請輸入第3位學生的成績：30\n",
      "請輸入第4位學生的成績：0\n",
      "請輸入第5位學生的成績：-1\n",
      "平均成績：15.000 分\n"
     ]
    }
   ],
   "source": [
    "total = person = score= 0\n",
    "\n",
    "while(score != -1):\n",
    "    person += 1\n",
    "\n",
    "    score = int(input('請輸入第%d位學生的成績：'%person))\n",
    "    if(score != -1):\n",
    "        total += score\n",
    "person -= 1\n",
    "average=total/person\n",
    "print(\"平均成績：%6.3f 分\"%average)\n",
    "\n",
    "\n"
   ]
  },
  {
   "cell_type": "code",
   "execution_count": null,
   "metadata": {},
   "outputs": [],
   "source": [
    "score=[]\n",
    "inscore=person=total=0\n",
    "while(inscore!=-1)\n",
    "    person=int(input('請輸入第%d位學生的成績：':%person))\n",
    "    if(inscore != -1):\n",
    "        score.append(inscore)\n",
    "        \n",
    "while(1):\n",
    "    print('0,結束程式')\n",
    "    print('1,輸出共有幾位學生')\n",
    "    print('2,輸出平均成績')\n",
    "    \n",
    "    option=int(input('選項：'))\n",
    "    \n",
    "    if(option ==0):\n",
    "        break\n",
    "    elif(option ==1):\n",
    "        print('共有%d位學生'%len(score))\n",
    "    elif(option ==2):\n",
    "        for i in score:\n",
    "            total += 1\n",
    "            "
   ]
  }
 ],
 "metadata": {
  "kernelspec": {
   "display_name": "Python 3",
   "language": "python",
   "name": "python3"
  },
  "language_info": {
   "codemirror_mode": {
    "name": "ipython",
    "version": 3
   },
   "file_extension": ".py",
   "mimetype": "text/x-python",
   "name": "python",
   "nbconvert_exporter": "python",
   "pygments_lexer": "ipython3",
   "version": "3.6.6"
  }
 },
 "nbformat": 4,
 "nbformat_minor": 2
}
